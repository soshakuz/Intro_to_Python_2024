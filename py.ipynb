{
 "cells": [
  {
   "cell_type": "markdown",
   "id": "8f868eb6",
   "metadata": {},
   "source": [
    "# Homework 1 - Python\n",
    "\n",
    "First Name: Aleksandra\n",
    "\n",
    "Last Name: Kuznetsova\n",
    "\n",
    "Group: MCOGN23\n",
    "\n",
    "### After the assigment is done, please, push it to your [private GitHub repository](https://docs.github.com/en/github/administering-a-repository/managing-repository-settings/setting-repository-visibility) and invite [Majid-Sohrabi](https://github.com/Majid-Sohrabi)  as [collaborator](https://docs.github.com/en/account-and-profile/setting-up-and-managing-your-github-user-account/managing-access-to-your-personal-repositories/inviting-collaborators-to-a-personal-repository)."
   ]
  },
  {
   "cell_type": "markdown",
   "id": "f47683d8",
   "metadata": {},
   "source": [
    "## Task 1  (0.5 point)\n",
    "\n",
    "Write a program that takes two numbers as input and prints whether the first number is greater than, less than, or equal to the second number."
   ]
  },
  {
   "cell_type": "code",
   "execution_count": 1,
   "id": "2d62ba3d",
   "metadata": {},
   "outputs": [],
   "source": [
    "num1 = float(input(\"Enter the first number: \"))\n",
    "num2 = float(input(\"Enter the second number: \"))\n",
    "\n",
    "if num1 > num2:\n",
    "    print(\"first number is greater than the secon number\")\n",
    "\n",
    "elif num1 < num2:\n",
    "    print(\"first number is less than the secon number\")\n",
    "\n",
    "elif num1 == num2:\n",
    "    print(\"first number is equal to the secon number\")"
   ]
  },
  {
   "cell_type": "markdown",
   "id": "d03af2f7",
   "metadata": {},
   "source": [
    "## Task 2 (0.5 point)\n",
    "\n",
    "Write a program that receives a positive integer `N` from the user, the task is to find following formula:\n",
    "\n",
    "$$\n",
    "1^2 + 2^3 + 3^2 + ... + N^2 (or N^3)\n",
    "$$\n",
    "\n",
    "1. If the number is odd then rais to the power of 2.\n",
    "2. If the numner is even then rais to the power of 3.\n",
    "\n",
    "\n",
    "Example:\n",
    "\n",
    "$$\n",
    "N = 5\n",
    "$$\n",
    "\n",
    "$$\n",
    "1^2 + 2^3 + 3^2 + 4^3 + 5^2 = (1 + 8 + 9 + 64 + 25) = 107\n",
    "$$\n"
   ]
  },
  {
   "cell_type": "code",
   "execution_count": null,
   "id": "53894434",
   "metadata": {},
   "outputs": [],
   "source": [
    "N = int(input(\"Enter a positive integer N: \"))\n",
    "\n",
    "result = 0\n",
    "\n",
    "for i in range(1, N + 1):\n",
    "   \n",
    "    if i % 2 == 0:\n",
    "        print(i)\n",
    "        result += i ** 3\n",
    "    else:\n",
    "        print(i)\n",
    "        result += i ** 2\n",
    "\n",
    "print(\"The sum of the series is:\", result)\n",
    "\n",
    "#I tried to visualy represent the formula, but...."
   ]
  },
  {
   "cell_type": "markdown",
   "id": "89040ea7",
   "metadata": {},
   "source": [
    "## Task 3  (0.5 points)\n",
    "\n",
    "Write a python program to rotate the elements of an array with an arbitrary direction (left or right) and arbitrary number or elements.\n",
    "\n",
    "1. The user need to insert the term ('left' or 'right') which shows the direction of the rotation.\n",
    "2. The user need to insert the number d which specifies how many elements need to be rotated.\n",
    "\n",
    "Example:\n",
    "\n",
    "```\n",
    "List (array) = [1, 2, 3, 4, 5, 6, 7]\n",
    "\n",
    "if left shift by 2 elements:\n",
    "\n",
    "Ooutput = [3, 4, 5, 6, 7, 1, 2] \n",
    "```"
   ]
  },
  {
   "cell_type": "code",
   "execution_count": null,
   "id": "782170f2",
   "metadata": {},
   "outputs": [],
   "source": [
    "n = int(input(\"Enter the length of the array: \"))\n",
    "mylist = list(range(1,n+1))\n",
    "\n",
    "direction = input(\"Enter 'left' or 'right' for rotation;\" )\n",
    "elements = int(input(\"Enter the number of elements to rotate: \"))\n",
    "\n",
    "if direction == \"left\":\n",
    "    rotated_elem = mylist[:elements]\n",
    "    del mylist[:elements]\n",
    "    mylist.extend(rotated_elem)\n",
    "    print(f'Array after {direction} rotation by {elements} elements: {mylist}')\n",
    "else:\n",
    "    elements = mylist[-elements:]\n",
    "    del mylist[-elements:]\n",
    "    mylist = rotated_elem + mylist\n",
    "    print(f\"Array after {direction} rotation by {elements} elements: {mylist}\")"
   ]
  },
  {
   "cell_type": "markdown",
   "id": "9f0f0213",
   "metadata": {},
   "source": [
    "## Task 4  (0.5 points)\n",
    "\n",
    "Write a program that takes an integer as input and prints whether it is even or odd."
   ]
  },
  {
   "cell_type": "code",
   "execution_count": 1,
   "id": "c79ed191",
   "metadata": {},
   "outputs": [],
   "source": [
    "\n",
    "number = int(input(\"Enter an integer: \"))\n",
    "\n",
    "if number % 2 == 0:\n",
    "    print(number, \"is even.\")\n",
    "else:\n",
    "    print(number, \"is odd.\")"
   ]
  },
  {
   "cell_type": "markdown",
   "id": "8a0edbe2",
   "metadata": {},
   "source": [
    "## Task 5  (0.5 point)\n",
    "\n",
    "Write a program that splits a list by an index inserted by the user, then cut the list from that index and attach the right part to the beginning of the list.\n",
    "\n",
    "Example:\n",
    "\n",
    "\n",
    "list: [1, 2, 3, 4, **5, 6, 7**]\n",
    "\n",
    "new list: [**5, 6, 7**, 1, 2, 3, 4]"
   ]
  },
  {
   "cell_type": "code",
   "execution_count": null,
   "id": "5414b2cf",
   "metadata": {},
   "outputs": [],
   "source": [
    "original= [1, 2, 3, 4, 5, 6, 7, 8, 9]\n",
    "slice_ind = input(\"Enter a number between 0-9 to slice the list: \")\n",
    "\n",
    "if 0 <= int(slice_ind) <= 9:\n",
    "    sliced_part = original[int(slice_ind):]\n",
    "    del original[int(slice_ind):]\n",
    "    print(sliced_part + original)\n"
   ]
  },
  {
   "cell_type": "markdown",
   "id": "63c550f5",
   "metadata": {},
   "source": [
    "## Task 6  (0.5 point)\n",
    "\n",
    "Write a program that takes a numeric grade as input and prints the corresponding letter grade (A, B, C, D, or F) according to the following criteria: A: 90-100, B: 80-89, C: 70-79, D: 60-69, F: 0-59."
   ]
  },
  {
   "cell_type": "code",
   "execution_count": null,
   "id": "90fcc676",
   "metadata": {},
   "outputs": [],
   "source": [
    "def numeric_to_letter_grade(grade):\n",
    "    if grade >= 90:\n",
    "        return 'A'\n",
    "    elif grade >= 80:\n",
    "        return 'B'\n",
    "    elif grade >= 70:\n",
    "        return 'C'\n",
    "    elif grade >= 60:\n",
    "        return 'D'\n",
    "    else:\n",
    "        return 'F'\n",
    "\n",
    "my_numeric_grade = float(input(\"Enter the numeric grade: \"))\n",
    "\n",
    "letter_grade = numeric_to_letter_grade(my_numeric_grade)\n",
    "\n",
    "print(\"The letter grade is:\", letter_grade)"
   ]
  },
  {
   "cell_type": "markdown",
   "id": "fb3f7250",
   "metadata": {},
   "source": [
    "## Task 7  (0.5 point)\n",
    "\n",
    "Write a program that takes a year as input and prints whether it is a leap year or not. Leap years are divisible by 4, but not by 100 unless also divisible by 400."
   ]
  },
  {
   "cell_type": "code",
   "execution_count": null,
   "id": "159f06e3",
   "metadata": {},
   "outputs": [],
   "source": [
    "\n",
    "year = int(input(\"Enter a year: \"))\n",
    "\n",
    "if (year % 4 == 0 and year % 100 != 0) or (year % 400 == 0):\n",
    "    print(year, \"is a leap year.\")\n",
    "else:\n",
    "    print(year, \"is not a leap year.\")"
   ]
  },
  {
   "cell_type": "markdown",
   "id": "7e46ae74",
   "metadata": {},
   "source": [
    "## Task 8  (0.5 point)\n",
    "\n",
    "Write a program that takes a number as input and prints whether it falls within the range of 1 to 100 (inclusive)."
   ]
  },
  {
   "cell_type": "code",
   "execution_count": null,
   "id": "142d9d7a",
   "metadata": {},
   "outputs": [],
   "source": [
    "\n",
    "number = float(input(\"Enter a number: \"))\n",
    "\n",
    "if 1 <= number <= 100:\n",
    "    print(\"The number\", number, \"falls within the range of 1 to 100.\")\n",
    "else:\n",
    "    print(\"The number\", number, \"does not fall within the range of 1 to 100.\")"
   ]
  },
  {
   "cell_type": "markdown",
   "id": "d1d75ffd",
   "metadata": {},
   "source": [
    "## Task 9  (0.5 point)\n",
    "\n",
    "Write a program that takes a character (letter) as input and prints whether it is a vowel or a consonant."
   ]
  },
  {
   "cell_type": "code",
   "execution_count": null,
   "id": "dec0c2b5",
   "metadata": {},
   "outputs": [],
   "source": [
    "character = input(\"Enter a character (letter): \")\n",
    "    \n",
    "if character in ['a', 'e', 'i', 'o', 'u']:\n",
    "        print(\"The character\", character, \"is a vowel.\")\n",
    "else:\n",
    "        print(\"The character\", character, \"is a consonant.\")\n"
   ]
  },
  {
   "cell_type": "markdown",
   "id": "f026862b",
   "metadata": {},
   "source": [
    "## Task 10  (0.5 point)\n",
    "\n",
    "Write a program that takes a number representing a day of the week (1 for Monday, 2 for Tuesday, etc.) and prints the corresponding day name."
   ]
  },
  {
   "cell_type": "code",
   "execution_count": null,
   "id": "139ad2ab",
   "metadata": {},
   "outputs": [],
   "source": [
    "number = int(input(\"Enter a number representing a day of the week (1-7): \"))\n",
    "\n",
    "names = ['Monday', 'Tuesday', 'Wednesday', 'Thursday', 'Friday', 'Saturday', 'Sunday']\n",
    "\n",
    "if 1 <= number <= 7:\n",
    "    day_name = names[number - 1]\n",
    "    print(\"The corresponding day name is:\", day_name)\n",
    "else:\n",
    "    print(\"Invalid input. Please enter a number between 1 and 7.\")"
   ]
  }
 ],
 "metadata": {
  "kernelspec": {
   "display_name": "Python 3 (ipykernel)",
   "language": "python",
   "name": "python3"
  },
  "language_info": {
   "codemirror_mode": {
    "name": "ipython",
    "version": 3
   },
   "file_extension": ".py",
   "mimetype": "text/x-python",
   "name": "python",
   "nbconvert_exporter": "python",
   "pygments_lexer": "ipython3",
   "version": "3.12.1"
  }
 },
 "nbformat": 4,
 "nbformat_minor": 5
}
